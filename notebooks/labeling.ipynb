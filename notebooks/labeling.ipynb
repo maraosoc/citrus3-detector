{
 "cells": [
  {
   "cell_type": "markdown",
   "id": "462ea0e1",
   "metadata": {},
   "source": [
    "Generación de etiquetas con label studio. Para ello primero es necesario convertir la simagenes -.tiff a .png que es compatible con label studio"
   ]
  },
  {
   "cell_type": "code",
   "execution_count": 2,
   "id": "5fc8ef4e",
   "metadata": {},
   "outputs": [
    {
     "name": "stdout",
     "output_type": "stream",
     "text": [
      "Converted database_batch__1.tif to database_batch__1.png\n",
      "Converted database_batch__14.tif to database_batch__14.png\n",
      "Converted database_batch__16.tif to database_batch__16.png\n",
      "Converted database_batch__17.tif to database_batch__17.png\n",
      "Converted database_batch__20.tif to database_batch__20.png\n",
      "Converted database_batch__4.tif to database_batch__4.png\n",
      "Converted database_batch__5.tif to database_batch__5.png\n",
      "Converted database_batch__7.tif to database_batch__7.png\n",
      "Converted database_batch__9.tif to database_batch__9.png\n"
     ]
    }
   ],
   "source": [
    "import cv2\n",
    "import os\n",
    "\n",
    "def convert_tiff_to_png(input_dir, output_dir):\n",
    "    # Check if output directory exists, create if not\n",
    "    if not os.path.exists(output_dir):\n",
    "        os.makedirs(output_dir)\n",
    "\n",
    "    # Loop through all files in the input directory\n",
    "    for filename in os.listdir(input_dir):\n",
    "        # Only process TIFF files\n",
    "        if filename.lower().endswith('.tiff') or filename.lower().endswith('.tif'):\n",
    "            input_path = os.path.join(input_dir, filename)\n",
    "            \n",
    "            # Read the TIFF image\n",
    "            img = cv2.imread(input_path, cv2.IMREAD_UNCHANGED)\n",
    "            \n",
    "            if img is None:\n",
    "                print(f\"Error reading {filename}\")\n",
    "                continue\n",
    "\n",
    "            # Construct the output filename (replace .tiff or .tif with .png)\n",
    "            output_filename = os.path.splitext(filename)[0] + '.png'\n",
    "            output_path = os.path.join(output_dir, output_filename)\n",
    "            \n",
    "            # Save the image as PNG\n",
    "            cv2.imwrite(output_path, img)\n",
    "            print(f\"Converted {filename} to {output_filename}\")\n",
    "\n",
    "if __name__ == \"__main__\":\n",
    "    basedir = \"D:/Universidad/MsC/VA/proyecto curso/database/test\"\n",
    "    input_directory = basedir\n",
    "    output_directory = f\"{basedir}/png\"\n",
    "    \n",
    "    convert_tiff_to_png(input_directory, output_directory)\n"
   ]
  },
  {
   "cell_type": "markdown",
   "id": "0bd4175f",
   "metadata": {},
   "source": [
    "Ahora vamos a importar unas anotaciones ya hechas con Label-studio en una resolución y convertirlas a otra resolución"
   ]
  },
  {
   "cell_type": "code",
   "execution_count": null,
   "id": "93a8856d",
   "metadata": {},
   "outputs": [],
   "source": [
    "from PIL import Image\n",
    "\n",
    "# Cargar imagen de baja resolución\n",
    "img_lr = Image.open('D:/Universidad/MsC/VA/proyecto curso/database/test/png/database_batch__1.png')\n",
    "width_lr, height_lr = img_lr.size\n",
    "\n",
    "# Cargar imagen de alta resolución\n",
    "img_hr = Image.open('D:/Universidad/MsC/VA/proyecto curso/database/test/png_1x res/database_batch_HR_0.png')\n",
    "width_hr, height_hr = img_hr.size\n",
    "\n",
    "# Calcular factores de escala\n",
    "scale_x = width_hr / width_lr\n",
    "scale_y = height_hr / height_lr\n"
   ]
  }
 ],
 "metadata": {
  "kernelspec": {
   "display_name": "camera_trap_workshop",
   "language": "python",
   "name": "python3"
  },
  "language_info": {
   "codemirror_mode": {
    "name": "ipython",
    "version": 3
   },
   "file_extension": ".py",
   "mimetype": "text/x-python",
   "name": "python",
   "nbconvert_exporter": "python",
   "pygments_lexer": "ipython3",
   "version": "3.11.11"
  }
 },
 "nbformat": 4,
 "nbformat_minor": 5
}
